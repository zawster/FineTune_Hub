{
 "cells": [
  {
   "cell_type": "code",
   "execution_count": 1,
   "id": "dd6a2579-fac5-43fd-86ce-f104d14c73c6",
   "metadata": {},
   "outputs": [],
   "source": [
    "import torch\n",
    "from torch.nn.utils.rnn import pad_sequence\n",
    "from torch.utils.data import DataLoader, Dataset\n",
    "import torch.nn as nn\n",
    "import pandas as pd\n",
    "import torch.optim as optim"
   ]
  },
  {
   "cell_type": "code",
   "execution_count": 2,
   "id": "fa755bd2-de30-41c4-aa6b-197c97e2cb60",
   "metadata": {},
   "outputs": [],
   "source": [
    "device = (\"cuda\" if torch.cuda.is_available() else \"cpu\" )"
   ]
  },
  {
   "cell_type": "code",
   "execution_count": 3,
   "id": "6217c84c-bb59-4001-9afc-0cd3eb262b7c",
   "metadata": {},
   "outputs": [],
   "source": [
    "from transformers import AutoTokenizer, AutoModelForCausalLM\n",
    "MODEL=\"microsoft/phi-1_5\"\n",
    "tokenizer = AutoTokenizer.from_pretrained(MODEL)\n",
    "model = AutoModelForCausalLM.from_pretrained(MODEL).to(device)"
   ]
  },
  {
   "cell_type": "code",
   "execution_count": 4,
   "id": "8cba4f59-7896-45d9-9395-508242511e48",
   "metadata": {},
   "outputs": [
    {
     "name": "stderr",
     "output_type": "stream",
     "text": [
      "/opt/conda/lib/python3.10/site-packages/transformers/generation/utils.py:1249: UserWarning: Using the model-agnostic default `max_length` (=20) to control the generation length. We recommend setting `max_new_tokens` to control the maximum length of the generation.\n",
      "  warnings.warn(\n"
     ]
    },
    {
     "data": {
      "text/plain": [
       "[{'generated_text': 'The man worked as a mail carrier and delivered letters and packages to different homes and businesses. He had'},\n",
       " {'generated_text': 'The man worked as a librarian, and he loved his job.\\n\\nHe enjoyed curating'},\n",
       " {'generated_text': 'The man worked as a weaver, crafting cloth from the fibers of plants and animals. He was'},\n",
       " {'generated_text': 'The man worked as a doctor and was passionate about healing people. But lately, he had been facing'},\n",
       " {'generated_text': 'The man worked as a salesman, but the position was lost.\\n\\nThe cat was able'}]"
      ]
     },
     "execution_count": 4,
     "metadata": {},
     "output_type": "execute_result"
    }
   ],
   "source": [
    "from transformers import pipeline, set_seed\n",
    "\n",
    "set_seed(32)\n",
    "generator = pipeline('text-generation', model=\"microsoft/phi-1_5\", do_sample=True, num_return_sequences=5, device=device)\n",
    "generator(\"The man worked as a\")\n"
   ]
  },
  {
   "cell_type": "code",
   "execution_count": 5,
   "id": "e374423a-c25a-4f41-84ee-b0c82f344a3c",
   "metadata": {},
   "outputs": [],
   "source": [
    "class textDataset(Dataset):\n",
    "    def __init__(self, tokenizer, text, max_len):\n",
    "        self.max_len = max_len\n",
    "        self.tokenizer = tokenizer\n",
    "        self.eos = self.tokenizer.eos_token\n",
    "        self.eos_id = self.tokenizer.eos_token_id\n",
    "        tokenizer.pad_token = tokenizer.eos_token\n",
    "        self.text = text\n",
    "        self.sequence = []\n",
    "        for book in text:\n",
    "            tokenized_output=self.tokenizer(str(book) + self.eos,\n",
    "                                        truncation=True,\n",
    "                                        padding='max_length',\n",
    "                                        max_length=max_len)\n",
    "            self.sequence.append(torch.tensor(tokenized_output['input_ids']))\n",
    "\n",
    "    def __len__(self):\n",
    "        return len(self.sequence)\n",
    "\n",
    "    def __getitem__(self, item):\n",
    "        return self.sequence[item]"
   ]
  },
  {
   "cell_type": "code",
   "execution_count": 6,
   "id": "d6bd3e96-0f86-4dfe-9a4e-3fa5870b4bcf",
   "metadata": {},
   "outputs": [],
   "source": [
    "df = pd.read_excel(\"data-excel.xlsx\")\n",
    "required_columns = ['headline', 'headline sentiment analysis', 'text', 'byline location','editorial notes','news value [nv] assessment']\n",
    "df = df[required_columns]\n",
    "df = df.fillna(\"\")\n",
    "df = df.astype(str)\n"
   ]
  },
  {
   "cell_type": "code",
   "execution_count": 7,
   "id": "8fc42002-b11c-44b4-abfc-264cb53e4cfb",
   "metadata": {},
   "outputs": [
    {
     "data": {
      "text/html": [
       "<div>\n",
       "<style scoped>\n",
       "    .dataframe tbody tr th:only-of-type {\n",
       "        vertical-align: middle;\n",
       "    }\n",
       "\n",
       "    .dataframe tbody tr th {\n",
       "        vertical-align: top;\n",
       "    }\n",
       "\n",
       "    .dataframe thead th {\n",
       "        text-align: right;\n",
       "    }\n",
       "</style>\n",
       "<table border=\"1\" class=\"dataframe\">\n",
       "  <thead>\n",
       "    <tr style=\"text-align: right;\">\n",
       "      <th></th>\n",
       "      <th>headline</th>\n",
       "      <th>headline sentiment analysis</th>\n",
       "      <th>text</th>\n",
       "      <th>byline location</th>\n",
       "      <th>editorial notes</th>\n",
       "      <th>news value [nv] assessment</th>\n",
       "    </tr>\n",
       "  </thead>\n",
       "  <tbody>\n",
       "    <tr>\n",
       "      <th>0</th>\n",
       "      <td>Pregnant woman, baby die after Russian bombing...</td>\n",
       "      <td>Negative</td>\n",
       "      <td>A wounded pregnant woman who was taken on a st...</td>\n",
       "      <td>Mariupol, Ukraine</td>\n",
       "      <td>This story holds high news value, as the Assoc...</td>\n",
       "      <td>3</td>\n",
       "    </tr>\n",
       "    <tr>\n",
       "      <th>1</th>\n",
       "      <td>Inside North Korea: “We are stuck, waiting to ...</td>\n",
       "      <td>Negative</td>\n",
       "      <td>For months, the BBC has been communicating in ...</td>\n",
       "      <td>Seoul, South Korea</td>\n",
       "      <td>This story was of extremely high value, due to...</td>\n",
       "      <td>3</td>\n",
       "    </tr>\n",
       "    <tr>\n",
       "      <th>2</th>\n",
       "      <td>Blair: Why Saddam and his weapons have to be s...</td>\n",
       "      <td>Positive</td>\n",
       "      <td>The prime minister cites intelligence in setti...</td>\n",
       "      <td>London, UK</td>\n",
       "      <td>This article, written by the Prime Minister, i...</td>\n",
       "      <td>1</td>\n",
       "    </tr>\n",
       "    <tr>\n",
       "      <th>3</th>\n",
       "      <td>Andrew Tate and brother Tristan can be extradi...</td>\n",
       "      <td>Neutral</td>\n",
       "      <td>Controversial influencer Andrew Tate and his b...</td>\n",
       "      <td></td>\n",
       "      <td>The coverage of the court case involving these...</td>\n",
       "      <td>-3</td>\n",
       "    </tr>\n",
       "    <tr>\n",
       "      <th>4</th>\n",
       "      <td>The secret deal that saved the Barclays Was th...</td>\n",
       "      <td>Negative</td>\n",
       "      <td>In March 13th Britain’s government said that i...</td>\n",
       "      <td></td>\n",
       "      <td>This extensively researched article by The Eco...</td>\n",
       "      <td>2</td>\n",
       "    </tr>\n",
       "    <tr>\n",
       "      <th>...</th>\n",
       "      <td>...</td>\n",
       "      <td>...</td>\n",
       "      <td>...</td>\n",
       "      <td>...</td>\n",
       "      <td>...</td>\n",
       "      <td>...</td>\n",
       "    </tr>\n",
       "    <tr>\n",
       "      <th>1058</th>\n",
       "      <td>Inside Biden’s Anti-Trump Battle Plan (and Whe...</td>\n",
       "      <td>Negative</td>\n",
       "      <td>As former President Donald J. Trump speeds tow...</td>\n",
       "      <td>Washington DC and New York</td>\n",
       "      <td>Journalists must prioritize substance over noi...</td>\n",
       "      <td>-1</td>\n",
       "    </tr>\n",
       "    <tr>\n",
       "      <th>1059</th>\n",
       "      <td>The 85-year-old student doing her fourth degree</td>\n",
       "      <td>Positive</td>\n",
       "      <td>An 85-year-old student who is working towards ...</td>\n",
       "      <td></td>\n",
       "      <td>Considering the involvement of Cotswold PR com...</td>\n",
       "      <td>-1</td>\n",
       "    </tr>\n",
       "    <tr>\n",
       "      <th>1060</th>\n",
       "      <td>Fresh volcanic eruption triggers evacuation in...</td>\n",
       "      <td>Negative</td>\n",
       "      <td>A volcanic eruption has begun on the Reykjanes...</td>\n",
       "      <td>Reykjavík, Iceland</td>\n",
       "      <td>The relevance of the volcanic eruption in Icel...</td>\n",
       "      <td>1</td>\n",
       "    </tr>\n",
       "    <tr>\n",
       "      <th>1061</th>\n",
       "      <td>A Dream of Secular Utopia in ISIS’ Backyard At...</td>\n",
       "      <td>Positive</td>\n",
       "      <td>SUMMARY: This article chronicles the author's ...</td>\n",
       "      <td>Qamishli, Syria</td>\n",
       "      <td>This long form article \"A Dream of Secular Uto...</td>\n",
       "      <td>-1</td>\n",
       "    </tr>\n",
       "    <tr>\n",
       "      <th>1062</th>\n",
       "      <td>In Rwanda, a formidable soft power system ensu...</td>\n",
       "      <td>Negative</td>\n",
       "      <td>SNIPPET: A small, landlocked country with limi...</td>\n",
       "      <td>Paris, France</td>\n",
       "      <td>\"Rwanda Classified,\" an investigation into Pau...</td>\n",
       "      <td>2</td>\n",
       "    </tr>\n",
       "  </tbody>\n",
       "</table>\n",
       "<p>1063 rows × 6 columns</p>\n",
       "</div>"
      ],
      "text/plain": [
       "                                               headline  \\\n",
       "0     Pregnant woman, baby die after Russian bombing...   \n",
       "1     Inside North Korea: “We are stuck, waiting to ...   \n",
       "2     Blair: Why Saddam and his weapons have to be s...   \n",
       "3     Andrew Tate and brother Tristan can be extradi...   \n",
       "4     The secret deal that saved the Barclays Was th...   \n",
       "...                                                 ...   \n",
       "1058  Inside Biden’s Anti-Trump Battle Plan (and Whe...   \n",
       "1059    The 85-year-old student doing her fourth degree   \n",
       "1060  Fresh volcanic eruption triggers evacuation in...   \n",
       "1061  A Dream of Secular Utopia in ISIS’ Backyard At...   \n",
       "1062  In Rwanda, a formidable soft power system ensu...   \n",
       "\n",
       "     headline sentiment analysis  \\\n",
       "0                       Negative   \n",
       "1                       Negative   \n",
       "2                       Positive   \n",
       "3                        Neutral   \n",
       "4                       Negative   \n",
       "...                          ...   \n",
       "1058                    Negative   \n",
       "1059                    Positive   \n",
       "1060                    Negative   \n",
       "1061                    Positive   \n",
       "1062                    Negative   \n",
       "\n",
       "                                                   text  \\\n",
       "0     A wounded pregnant woman who was taken on a st...   \n",
       "1     For months, the BBC has been communicating in ...   \n",
       "2     The prime minister cites intelligence in setti...   \n",
       "3     Controversial influencer Andrew Tate and his b...   \n",
       "4     In March 13th Britain’s government said that i...   \n",
       "...                                                 ...   \n",
       "1058  As former President Donald J. Trump speeds tow...   \n",
       "1059  An 85-year-old student who is working towards ...   \n",
       "1060  A volcanic eruption has begun on the Reykjanes...   \n",
       "1061  SUMMARY: This article chronicles the author's ...   \n",
       "1062  SNIPPET: A small, landlocked country with limi...   \n",
       "\n",
       "                 byline location  \\\n",
       "0              Mariupol, Ukraine   \n",
       "1             Seoul, South Korea   \n",
       "2                     London, UK   \n",
       "3                                  \n",
       "4                                  \n",
       "...                          ...   \n",
       "1058  Washington DC and New York   \n",
       "1059                               \n",
       "1060          Reykjavík, Iceland   \n",
       "1061             Qamishli, Syria   \n",
       "1062               Paris, France   \n",
       "\n",
       "                                        editorial notes  \\\n",
       "0     This story holds high news value, as the Assoc...   \n",
       "1     This story was of extremely high value, due to...   \n",
       "2     This article, written by the Prime Minister, i...   \n",
       "3     The coverage of the court case involving these...   \n",
       "4     This extensively researched article by The Eco...   \n",
       "...                                                 ...   \n",
       "1058  Journalists must prioritize substance over noi...   \n",
       "1059  Considering the involvement of Cotswold PR com...   \n",
       "1060  The relevance of the volcanic eruption in Icel...   \n",
       "1061  This long form article \"A Dream of Secular Uto...   \n",
       "1062  \"Rwanda Classified,\" an investigation into Pau...   \n",
       "\n",
       "     news value [nv] assessment  \n",
       "0                             3  \n",
       "1                             3  \n",
       "2                             1  \n",
       "3                            -3  \n",
       "4                             2  \n",
       "...                         ...  \n",
       "1058                         -1  \n",
       "1059                         -1  \n",
       "1060                          1  \n",
       "1061                         -1  \n",
       "1062                          2  \n",
       "\n",
       "[1063 rows x 6 columns]"
      ]
     },
     "execution_count": 7,
     "metadata": {},
     "output_type": "execute_result"
    }
   ],
   "source": [
    "df"
   ]
  },
  {
   "cell_type": "code",
   "execution_count": 8,
   "id": "2859ad9a-3cca-47f3-a401-b983d4725142",
   "metadata": {},
   "outputs": [],
   "source": [
    "DEFAULT_SYSTEM_PROMPT = \"\"\"\n",
    "Below is an instruction that describes a task. Write a response that appropriately completes the request.\\n\n",
    "\"\"\".strip()\n",
    "\n",
    "\n",
    "def generate_training_prompt(\n",
    "    text: str, sentiment: str, notes: str, rank:str, location:str\n",
    ") -> str:\n",
    "    return f\"\"\"{DEFAULT_SYSTEM_PROMPT}\n",
    "\n",
    "### Article:\n",
    "{text}\n",
    "\n",
    "### Sentiment:\n",
    "{sentiment}\n",
    "\n",
    "### editorial-notes:\n",
    "{notes}\n",
    "\n",
    "### Ranking:\n",
    "{rank}\n",
    "### Location:\n",
    "{location}\n",
    "\"\"\".strip()"
   ]
  },
  {
   "cell_type": "code",
   "execution_count": 9,
   "id": "6ee5a01c-733c-4b25-a624-8136efe721b6",
   "metadata": {},
   "outputs": [],
   "source": [
    "traindata = df.iloc[:980]\n",
    "testdata = df.iloc[980:]"
   ]
  },
  {
   "cell_type": "code",
   "execution_count": 10,
   "id": "f3fec7d5-27c7-4070-8267-7d37b2306fbf",
   "metadata": {},
   "outputs": [],
   "source": [
    "textTrain = []\n",
    "for i in range(len(traindata)):\n",
    "    input_prompt = generate_training_prompt(\n",
    "        text=traindata['text'].iloc[i],\n",
    "        sentiment=traindata['headline sentiment analysis'].iloc[i],\n",
    "        notes=traindata['editorial notes'].iloc[i],\n",
    "        rank=traindata['news value [nv] assessment'].iloc[i],\n",
    "        location=traindata['byline location'].iloc[i]\n",
    "    )\n",
    "    textTrain.append(input_prompt)"
   ]
  },
  {
   "cell_type": "code",
   "execution_count": 11,
   "id": "06facddd-4070-4af6-8138-67fd6e78ffd6",
   "metadata": {},
   "outputs": [
    {
     "data": {
      "text/plain": [
       "980"
      ]
     },
     "execution_count": 11,
     "metadata": {},
     "output_type": "execute_result"
    }
   ],
   "source": [
    "len(textTrain)"
   ]
  },
  {
   "cell_type": "code",
   "execution_count": 12,
   "id": "94eabd30-a9f9-4a53-9881-ea8f3244266e",
   "metadata": {},
   "outputs": [],
   "source": [
    "textTest = []\n",
    "for i in range(len(testdata)):\n",
    "    input_prompt = generate_training_prompt(\n",
    "        text=testdata['text'].iloc[i],\n",
    "        sentiment=testdata['headline sentiment analysis'].iloc[i],\n",
    "        notes=testdata['editorial notes'].iloc[i],\n",
    "        rank=testdata['news value [nv] assessment'].iloc[i],\n",
    "        location=testdata['byline location'].iloc[i]\n",
    "    )\n",
    "    textTest.append(input_prompt)"
   ]
  },
  {
   "cell_type": "code",
   "execution_count": 13,
   "id": "66a3d698-e749-4e5e-828a-fbe40deac10e",
   "metadata": {},
   "outputs": [
    {
     "data": {
      "text/plain": [
       "83"
      ]
     },
     "execution_count": 13,
     "metadata": {},
     "output_type": "execute_result"
    }
   ],
   "source": [
    "len(textTest)"
   ]
  },
  {
   "cell_type": "code",
   "execution_count": 14,
   "id": "1babb335-e03a-4813-a29f-ac6dfbc37b17",
   "metadata": {},
   "outputs": [
    {
     "data": {
      "text/plain": [
       "1335"
      ]
     },
     "execution_count": 14,
     "metadata": {},
     "output_type": "execute_result"
    }
   ],
   "source": [
    "len(textTest[0].split())"
   ]
  },
  {
   "cell_type": "code",
   "execution_count": 15,
   "id": "b9f51a91-af7f-40fc-9612-74a18d2938b4",
   "metadata": {},
   "outputs": [],
   "source": [
    "def train(dataloader, model, optimizer):\n",
    "    size = len(dataloader.dataset)\n",
    "    model.train()\n",
    "    for batch, X in enumerate(dataloader):\n",
    "        X = X.to(device)\n",
    "        pred = model(X, labels=X)\n",
    "        loss = pred.loss\n",
    "\n",
    "        # Backpropagation\n",
    "        loss.backward()\n",
    "        optimizer.step()\n",
    "        optimizer.zero_grad()\n",
    "        if batch % 1000 == 0:\n",
    "            loss, current = loss.item(), (batch + 1) * len(X)\n",
    "            print(f\"loss: {loss:>7f}  [{current:>5d}/{size:>5d}]\")\n",
    "            try:\n",
    "                file = open('loss_pretrain.txt', 'a')\n",
    "                file.write(f\"Training loss: {loss:>7f}  [{current:>5d}/{size:>5d}]\\n\")\n",
    "                file.close()\n",
    "            except:\n",
    "                print('file not found')\n",
    "        del X\n",
    "        torch.cuda.empty_cache()\n",
    "    model.save_pretrained(\"optnews\")\n",
    "    "
   ]
  },
  {
   "cell_type": "code",
   "execution_count": 16,
   "id": "f742cbf3-fb07-4713-bc6f-d4a340d0e34d",
   "metadata": {},
   "outputs": [],
   "source": [
    "def test(dataloader, model):\n",
    "    size = len(dataloader.dataset)\n",
    "    num_batches = len(dataloader)\n",
    "    model.eval()\n",
    "    test_loss = 0\n",
    "    with torch.no_grad():\n",
    "        for X in dataloader:\n",
    "            X = X.to(device)\n",
    "            pred = model(X, labels=X)\n",
    "            test_loss += pred.loss\n",
    "    test_loss /= num_batches\n",
    "    try:\n",
    "        file = open('loss_pretrain.txt', 'a')\n",
    "        file.write(f\"Validation Error: \\nAvg loss: {test_loss:>8f} \\n\")\n",
    "        file.close()\n",
    "    except:\n",
    "        print('file not found')\n",
    "    print(f\"Validation Error: \\nAvg loss: {test_loss:>8f} \\n\")"
   ]
  },
  {
   "cell_type": "code",
   "execution_count": 17,
   "id": "b166ce90-db41-4aa4-bf79-7fbca546b3d5",
   "metadata": {},
   "outputs": [],
   "source": [
    "class ClearCache:\n",
    "    def __enter__(self):\n",
    "        torch.cuda.empty_cache()\n",
    "\n",
    "    def __exit__(self, exc_type, exc_val, exc_tb):\n",
    "        torch.cuda.empty_cache()"
   ]
  },
  {
   "cell_type": "code",
   "execution_count": 18,
   "id": "a071e044-42aa-416a-bf63-7d4011a6e4ad",
   "metadata": {},
   "outputs": [],
   "source": [
    "optimizer = torch.optim.AdamW(model.parameters(), lr=1e-5)"
   ]
  },
  {
   "cell_type": "code",
   "execution_count": 19,
   "id": "c3f0eb4e-5bf0-472a-91c8-35146575877b",
   "metadata": {},
   "outputs": [],
   "source": [
    "datasetTrain = textDataset(tokenizer, textTrain, 1800)\n",
    "datasetTest = textDataset(tokenizer, textTest, 1800)"
   ]
  },
  {
   "cell_type": "code",
   "execution_count": 20,
   "id": "1e5ea155-6883-4ef4-8eee-d9971e043a06",
   "metadata": {},
   "outputs": [],
   "source": [
    "train_dataloader = DataLoader(datasetTrain, batch_size=2, shuffle=True)\n",
    "test_dataloader = DataLoader(datasetTest, batch_size=2, shuffle=True)"
   ]
  },
  {
   "cell_type": "code",
   "execution_count": null,
   "id": "e2765c1d-e9ed-46d1-9735-da53530e3861",
   "metadata": {},
   "outputs": [
    {
     "name": "stderr",
     "output_type": "stream",
     "text": [
      "We detected that you are passing `past_key_values` as a tuple and this is deprecated and will be removed in v4.43. Please use an appropriate `Cache` class (https://huggingface.co/docs/transformers/v4.41.3/en/internal/generation_utils#transformers.Cache)\n"
     ]
    },
    {
     "name": "stdout",
     "output_type": "stream",
     "text": [
      "Epoch 1\n",
      "-------------------------------\n",
      "loss: 5.896377  [    2/  980]\n",
      "Validation Error: \n",
      "Avg loss: 1.551274 \n",
      "\n",
      "Epoch 2\n",
      "-------------------------------\n",
      "loss: 0.984500  [    2/  980]\n",
      "Validation Error: \n",
      "Avg loss: 1.558285 \n",
      "\n",
      "Epoch 3\n",
      "-------------------------------\n",
      "loss: 0.978207  [    2/  980]\n"
     ]
    }
   ],
   "source": [
    "with ClearCache():\n",
    "    epochs = 20\n",
    "    for t in range(epochs):\n",
    "        file = open('loss_pretrain.txt', 'a')\n",
    "        file.write(f\"Epoch {t+1}\\n-------------------------------\\n\")\n",
    "        file.close()\n",
    "        print(f\"Epoch {t+1}\\n-------------------------------\")\n",
    "        train(train_dataloader, model, optimizer)\n",
    "        test(test_dataloader, model)\n",
    "\n",
    "    print(\"Done!\")"
   ]
  },
  {
   "cell_type": "code",
   "execution_count": 28,
   "id": "164068a4-1292-4a7c-80a3-fb68d9cc3a19",
   "metadata": {},
   "outputs": [],
   "source": [
    "\n",
    "def generate_query_prompt(\n",
    "    text: str) -> str:\n",
    "    return f\"\"\"{DEFAULT_SYSTEM_PROMPT}\n",
    "\n",
    "### Article:\n",
    "{text}\n",
    "\n",
    "### Sentiment:\n",
    "\n",
    "\"\"\".strip()\n",
    "\n"
   ]
  },
  {
   "cell_type": "code",
   "execution_count": 34,
   "id": "4ca9bff4-3a0d-4028-af08-0e56ec03ecd1",
   "metadata": {},
   "outputs": [],
   "source": [
    "qry = generate_query_prompt(testdata['text'].iloc[11])"
   ]
  },
  {
   "cell_type": "code",
   "execution_count": 35,
   "id": "e8ec534f-ef8f-4280-af2d-3dedf7c9d455",
   "metadata": {},
   "outputs": [
    {
     "data": {
      "text/plain": [
       "'Below is an instruction that describes a task. Write a response that appropriately completes the request.\\n\\n### Article:\\nPolicies on gender and trans issues dominated announcements by ministers at the Conservatives’ conference on Tuesday, sparking a backlash among Tory MPs anxious about the party’s deepening politicisation of the subject. Six cabinet ministers used their moment at the podium to draw attention to trans and gender issues, with some frontbenchers promising fresh moves, reviews or guidance. The prevalence of the subject on the main agenda at the four-day party conference in Manchester signals that the topic is likely to be a prominent theme in the Tories’ campaign in the election expected next year. Lee Anderson, the Tory MP who is also deputy chair of the party, said in February that with Brexit off the agenda the party needed to find new topics to galvanise the electorate, namely the “trans debate” and “culture wars”. The Conservatives are framing their position as the “common sense” stance on women and children’s rights, contrasting it with Labour, which they accuse of cleaving to an extremist gender ideology. However, the heavy emphasis on the subject leaves the party open to criticism that it is stoking divisive, US-style “culture wars” in pursuit of electoral gains. Tory ministers are among those concerned the issue could cast the party in an hostile light and warned it could prove a “distraction” from measures to help voters such as with the cost of living. One stressed the party should be “compassionate” in its approach to trans people, adding: “It’s not an issue that voters notice like pump watch [a scheme to monitor and compare petrol prices], it doesn’t come up on the doorstep.” Suella Braverman, the home secretary, on Tuesday used her speech to rail against “gender ideology” as a “woke” and “highly controversial” thesis that has been presented to the public as a “motherhood and apple pie” idea. She announced a lifetime ban on sex offenders changing their gender, or name, in an attempt to prevent them from evading the sex offence register. The speech prompted an angry reaction from Tory London Assembly member Andrew Boff, who was ejected from the auditorium for heckling Braverman. “I’m a loyal Tory,” he told journalists afterwards, adding: “This trash about gender ideology is making our Conservative party look transphobic and homophobic. This is not what our Conservative party is about.” Grace, a 16-year-old politics student who declined to give her surname, was visibly shaken by Braverman’s speech. “The villainisation of trans women in particular really upsets me,” she said as she left the hall. Warning the party was out of step with her generation, she added: “People our age would be really disgusted by the things they’re saying.” Earlier Steve Barclay, the health secretary, announced the government would change the NHS constitution to “recognise the importance of different biological needs and protect the rights of women”. The move, which will be put to consultation later this year, is expected to involve a ban on transgender women in female-only hospital wards. Barclay also drew attention to his intervention to restore the word “women” on NHS web pages about female-specific illnesses such as cervical cancer, where such references had been “erased”. In an oblique swipe at Labour leader Sir Keir Starmer, who has said individuals with male genitalia can be women, the health secretary was applauded when he told activists: “As Conservatives, we know what a woman is.” Following criticism that it lacked a clear stance on gender self-identification, Labour in July said it was right to require a doctor’s opinion in order to legally change gender. The party also said it supported the existence of women-only spaces reserved for biological women, in certain contexts, in line with current equalities law. Michelle Donelan, the science secretary, also lashed out at the “slow creep of wokeism”, as she announced a review into the use of sex and gender questions in scientific research and statistics, including in public bodies. It will produce “robust guidance” within six months, she said, after outlining concerns about “bureaucrats” banning “legitimate” research questions about biological sex. On Monday Kemi Badenoch, the business secretary, and Alister Jack, the Scottish secretary, had both highlighted the UK government’s intervention in Scotland in January, when it blocked Holyrood’s attempt to introduce a gender self-recognition law. But one minister urged caution over the issue. “We are on the right side of public opinion on this but there’s a danger of overkill,” they said. A Tory strategist added it was important to avoid “lazy” or “intolerant” generalisations: “We have to be careful — we can’t let the impression take hold that we are the nasty party.”\\n\\n### Sentiment:'"
      ]
     },
     "execution_count": 35,
     "metadata": {},
     "output_type": "execute_result"
    }
   ],
   "source": [
    "qry"
   ]
  },
  {
   "cell_type": "code",
   "execution_count": 36,
   "id": "8b5dd852-018d-47f3-8245-d48a7faf4742",
   "metadata": {},
   "outputs": [],
   "source": [
    "generation_config = model.generation_config\n",
    "generation_config.max_new_tokens = 700\n",
    "generation_config.temperature = 0.7\n",
    "generation_config.top_p = 0.7\n",
    "generation_config.num_return_sequences = 1\n",
    "generation_config.pad_token_id = tokenizer.eos_token_id\n",
    "generation_config.eos_token_id = tokenizer.eos_token_id\n"
   ]
  },
  {
   "cell_type": "code",
   "execution_count": 38,
   "id": "80ddf202-4eba-4bb5-b7d9-724e0924d391",
   "metadata": {},
   "outputs": [
    {
     "ename": "ValueError",
     "evalue": "The generation config instance is invalid -- `.validate()` throws warnings and/or exceptions. Fix these issues to save the configuration.\n\nThrown during validation:\n[UserWarning('`do_sample` is set to `False`. However, `temperature` is set to `0.7` -- this flag is only used in sample-based generation modes. You should set `do_sample=True` or unset `temperature`.'), UserWarning('`do_sample` is set to `False`. However, `top_p` is set to `0.7` -- this flag is only used in sample-based generation modes. You should set `do_sample=True` or unset `top_p`.')]",
     "output_type": "error",
     "traceback": [
      "\u001b[0;31m---------------------------------------------------------------------------\u001b[0m",
      "\u001b[0;31mValueError\u001b[0m                                Traceback (most recent call last)",
      "File \u001b[0;32m/opt/conda/lib/python3.10/site-packages/transformers/generation/configuration_utils.py:733\u001b[0m, in \u001b[0;36mGenerationConfig.save_pretrained\u001b[0;34m(self, save_directory, config_file_name, push_to_hub, **kwargs)\u001b[0m\n\u001b[1;32m    732\u001b[0m     \u001b[38;5;28;01mif\u001b[39;00m \u001b[38;5;28mlen\u001b[39m(caught_warnings) \u001b[38;5;241m>\u001b[39m \u001b[38;5;241m0\u001b[39m:\n\u001b[0;32m--> 733\u001b[0m         \u001b[38;5;28;01mraise\u001b[39;00m \u001b[38;5;167;01mValueError\u001b[39;00m(\u001b[38;5;28mstr\u001b[39m([w\u001b[38;5;241m.\u001b[39mmessage \u001b[38;5;28;01mfor\u001b[39;00m w \u001b[38;5;129;01min\u001b[39;00m caught_warnings]))\n\u001b[1;32m    734\u001b[0m \u001b[38;5;28;01mexcept\u001b[39;00m \u001b[38;5;167;01mValueError\u001b[39;00m \u001b[38;5;28;01mas\u001b[39;00m exc:\n",
      "\u001b[0;31mValueError\u001b[0m: [UserWarning('`do_sample` is set to `False`. However, `temperature` is set to `0.7` -- this flag is only used in sample-based generation modes. You should set `do_sample=True` or unset `temperature`.'), UserWarning('`do_sample` is set to `False`. However, `top_p` is set to `0.7` -- this flag is only used in sample-based generation modes. You should set `do_sample=True` or unset `top_p`.')]",
      "\nDuring handling of the above exception, another exception occurred:\n",
      "\u001b[0;31mValueError\u001b[0m                                Traceback (most recent call last)",
      "Cell \u001b[0;32mIn[38], line 1\u001b[0m\n\u001b[0;32m----> 1\u001b[0m \u001b[43mmodel\u001b[49m\u001b[38;5;241;43m.\u001b[39;49m\u001b[43msave_pretrained\u001b[49m\u001b[43m(\u001b[49m\u001b[38;5;124;43m\"\u001b[39;49m\u001b[38;5;124;43moptnews\u001b[39;49m\u001b[38;5;124;43m\"\u001b[39;49m\u001b[43m)\u001b[49m\n",
      "File \u001b[0;32m/opt/conda/lib/python3.10/site-packages/transformers/modeling_utils.py:2487\u001b[0m, in \u001b[0;36mPreTrainedModel.save_pretrained\u001b[0;34m(self, save_directory, is_main_process, state_dict, save_function, push_to_hub, max_shard_size, safe_serialization, variant, token, save_peft_format, **kwargs)\u001b[0m\n\u001b[1;32m   2476\u001b[0m         \u001b[38;5;28;01mif\u001b[39;00m new_generation_config \u001b[38;5;241m!=\u001b[39m model_to_save\u001b[38;5;241m.\u001b[39mgeneration_config:\n\u001b[1;32m   2477\u001b[0m             logger\u001b[38;5;241m.\u001b[39mwarning(\n\u001b[1;32m   2478\u001b[0m                 \u001b[38;5;124m\"\u001b[39m\u001b[38;5;124mYour generation config was originally created from the model config, but the model \u001b[39m\u001b[38;5;124m\"\u001b[39m\n\u001b[1;32m   2479\u001b[0m                 \u001b[38;5;124m\"\u001b[39m\u001b[38;5;124mconfig has changed since then. Unless you pass the `generation_config` argument to this \u001b[39m\u001b[38;5;124m\"\u001b[39m\n\u001b[0;32m   (...)\u001b[0m\n\u001b[1;32m   2485\u001b[0m                 \u001b[38;5;124m\"\u001b[39m\u001b[38;5;124mexception in v4.41.\u001b[39m\u001b[38;5;124m\"\u001b[39m\n\u001b[1;32m   2486\u001b[0m             )\n\u001b[0;32m-> 2487\u001b[0m     \u001b[43mmodel_to_save\u001b[49m\u001b[38;5;241;43m.\u001b[39;49m\u001b[43mgeneration_config\u001b[49m\u001b[38;5;241;43m.\u001b[39;49m\u001b[43msave_pretrained\u001b[49m\u001b[43m(\u001b[49m\u001b[43msave_directory\u001b[49m\u001b[43m)\u001b[49m\n\u001b[1;32m   2489\u001b[0m \u001b[38;5;28;01mif\u001b[39;00m _hf_peft_config_loaded:\n\u001b[1;32m   2490\u001b[0m     logger\u001b[38;5;241m.\u001b[39minfo(\n\u001b[1;32m   2491\u001b[0m         \u001b[38;5;124m\"\u001b[39m\u001b[38;5;124mDetected adapters on the model, saving the model in the PEFT format, only adapter weights will be saved.\u001b[39m\u001b[38;5;124m\"\u001b[39m\n\u001b[1;32m   2492\u001b[0m     )\n",
      "File \u001b[0;32m/opt/conda/lib/python3.10/site-packages/transformers/generation/configuration_utils.py:735\u001b[0m, in \u001b[0;36mGenerationConfig.save_pretrained\u001b[0;34m(self, save_directory, config_file_name, push_to_hub, **kwargs)\u001b[0m\n\u001b[1;32m    733\u001b[0m         \u001b[38;5;28;01mraise\u001b[39;00m \u001b[38;5;167;01mValueError\u001b[39;00m(\u001b[38;5;28mstr\u001b[39m([w\u001b[38;5;241m.\u001b[39mmessage \u001b[38;5;28;01mfor\u001b[39;00m w \u001b[38;5;129;01min\u001b[39;00m caught_warnings]))\n\u001b[1;32m    734\u001b[0m \u001b[38;5;28;01mexcept\u001b[39;00m \u001b[38;5;167;01mValueError\u001b[39;00m \u001b[38;5;28;01mas\u001b[39;00m exc:\n\u001b[0;32m--> 735\u001b[0m     \u001b[38;5;28;01mraise\u001b[39;00m \u001b[38;5;167;01mValueError\u001b[39;00m(\n\u001b[1;32m    736\u001b[0m         \u001b[38;5;124m\"\u001b[39m\u001b[38;5;124mThe generation config instance is invalid -- `.validate()` throws warnings and/or exceptions. \u001b[39m\u001b[38;5;124m\"\u001b[39m\n\u001b[1;32m    737\u001b[0m         \u001b[38;5;124m\"\u001b[39m\u001b[38;5;124mFix these issues to save the configuration.\u001b[39m\u001b[38;5;130;01m\\n\u001b[39;00m\u001b[38;5;130;01m\\n\u001b[39;00m\u001b[38;5;124mThrown during validation:\u001b[39m\u001b[38;5;130;01m\\n\u001b[39;00m\u001b[38;5;124m\"\u001b[39m \u001b[38;5;241m+\u001b[39m \u001b[38;5;28mstr\u001b[39m(exc)\n\u001b[1;32m    738\u001b[0m     )\n\u001b[1;32m    740\u001b[0m use_auth_token \u001b[38;5;241m=\u001b[39m kwargs\u001b[38;5;241m.\u001b[39mpop(\u001b[38;5;124m\"\u001b[39m\u001b[38;5;124muse_auth_token\u001b[39m\u001b[38;5;124m\"\u001b[39m, \u001b[38;5;28;01mNone\u001b[39;00m)\n\u001b[1;32m    742\u001b[0m \u001b[38;5;28;01mif\u001b[39;00m use_auth_token \u001b[38;5;129;01mis\u001b[39;00m \u001b[38;5;129;01mnot\u001b[39;00m \u001b[38;5;28;01mNone\u001b[39;00m:\n",
      "\u001b[0;31mValueError\u001b[0m: The generation config instance is invalid -- `.validate()` throws warnings and/or exceptions. Fix these issues to save the configuration.\n\nThrown during validation:\n[UserWarning('`do_sample` is set to `False`. However, `temperature` is set to `0.7` -- this flag is only used in sample-based generation modes. You should set `do_sample=True` or unset `temperature`.'), UserWarning('`do_sample` is set to `False`. However, `top_p` is set to `0.7` -- this flag is only used in sample-based generation modes. You should set `do_sample=True` or unset `top_p`.')]"
     ]
    }
   ],
   "source": [
    "\n",
    "# model.save_pretrained(\"optnews\")\n"
   ]
  },
  {
   "cell_type": "code",
   "execution_count": 37,
   "id": "36526faf-8587-41b3-a31a-d564e99461a8",
   "metadata": {},
   "outputs": [
    {
     "name": "stdout",
     "output_type": "stream",
     "text": [
      "Below is an instruction that describes a task. Write a response that appropriately completes the request.\n",
      "\n",
      "### Article:\n",
      "Policies on gender and trans issues dominated announcements by ministers at the Conservatives’ conference on Tuesday, sparking a backlash among Tory MPs anxious about the party’s deepening politicisation of the subject. Six cabinet ministers used their moment at the podium to draw attention to trans and gender issues, with some frontbenchers promising fresh moves, reviews or guidance. The prevalence of the subject on the main agenda at the four-day party conference in Manchester signals that the topic is likely to be a prominent theme in the Tories’ campaign in the election expected next year. Lee Anderson, the Tory MP who is also deputy chair of the party, said in February that with Brexit off the agenda the party needed to find new topics to galvanise the electorate, namely the “trans debate” and “culture wars”. The Conservatives are framing their position as the “common sense” stance on women and children’s rights, contrasting it with Labour, which they accuse of cleaving to an extremist gender ideology. However, the heavy emphasis on the subject leaves the party open to criticism that it is stoking divisive, US-style “culture wars” in pursuit of electoral gains. Tory ministers are among those concerned the issue could cast the party in an hostile light and warned it could prove a “distraction” from measures to help voters such as with the cost of living. One stressed the party should be “compassionate” in its approach to trans people, adding: “It’s not an issue that voters notice like pump watch [a scheme to monitor and compare petrol prices], it doesn’t come up on the doorstep.” Suella Braverman, the home secretary, on Tuesday used her speech to rail against “gender ideology” as a “woke” and “highly controversial” thesis that has been presented to the public as a “motherhood and apple pie” idea. She announced a lifetime ban on sex offenders changing their gender, or name, in an attempt to prevent them from evading the sex offence register. The speech prompted an angry reaction from Tory London Assembly member Andrew Boff, who was ejected from the auditorium for heckling Braverman. “I’m a loyal Tory,” he told journalists afterwards, adding: “This trash about gender ideology is making our Conservative party look transphobic and homophobic. This is not what our Conservative party is about.” Grace, a 16-year-old politics student who declined to give her surname, was visibly shaken by Braverman’s speech. “The villainisation of trans women in particular really upsets me,” she said as she left the hall. Warning the party was out of step with her generation, she added: “People our age would be really disgusted by the things they’re saying.” Earlier Steve Barclay, the health secretary, announced the government would change the NHS constitution to “recognise the importance of different biological needs and protect the rights of women”. The move, which will be put to consultation later this year, is expected to involve a ban on transgender women in female-only hospital wards. Barclay also drew attention to his intervention to restore the word “women” on NHS web pages about female-specific illnesses such as cervical cancer, where such references had been “erased”. In an oblique swipe at Labour leader Sir Keir Starmer, who has said individuals with male genitalia can be women, the health secretary was applauded when he told activists: “As Conservatives, we know what a woman is.” Following criticism that it lacked a clear stance on gender self-identification, Labour in July said it was right to require a doctor’s opinion in order to legally change gender. The party also said it supported the existence of women-only spaces reserved for biological women, in certain contexts, in line with current equalities law. Michelle Donelan, the science secretary, also lashed out at the “slow creep of wokeism”, as she announced a review into the use of sex and gender questions in scientific research and statistics, including in public bodies. It will produce “robust guidance” within six months, she said, after outlining concerns about “bureaucrats” banning “legitimate” research questions about biological sex. On Monday Kemi Badenoch, the business secretary, and Alister Jack, the Scottish secretary, had both highlighted the UK government’s intervention in Scotland in January, when it blocked Holyrood’s attempt to introduce a gender self-recognition law. But one minister urged caution over the issue. “We are on the right side of public opinion on this but there’s a danger of overkill,” they said. A Tory strategist added it was important to avoid “lazy” or “intolerant” generalisations: “We have to be careful — we can’t let the impression take hold that we are the nasty party.”\n",
      "\n",
      "### Sentiment:\n",
      "Negative\n",
      "\n",
      "### editorial-notes:\n",
      "The Telegraph article on the Conservative party conference on gender and trans issues is primarily a commentary piece that lacks depth and substance. It primarily serves as a form of entertainment and diversion for the public, diverting attention away from more important and pressing matters. While it may provide brief amusement or distraction, it does not offer valuable insights or contribute significantly to public discourse or understanding.\n",
      "\n",
      "### Ranking:\n",
      "-2\n",
      "### Location:\n",
      "CPU times: user 1.7 s, sys: 160 ms, total: 1.86 s\n",
      "Wall time: 1.86 s\n"
     ]
    }
   ],
   "source": [
    "%%time\n",
    "\n",
    "prompt = qry\n",
    "device = \"cuda\"\n",
    "encoding = tokenizer(prompt, return_tensors=\"pt\").to(device)\n",
    "with torch.inference_mode():\n",
    "  outputs = model.generate(\n",
    "      input_ids = encoding.input_ids,\n",
    "      attention_mask = encoding.attention_mask,\n",
    "      generation_config = generation_config\n",
    "  )\n",
    "\n",
    "print(tokenizer.decode(outputs[0], skip_special_tokens=True, skip_prompt=True))"
   ]
  },
  {
   "cell_type": "code",
   "execution_count": null,
   "id": "e4347829-56f6-4ee3-a852-01e0e17a080b",
   "metadata": {},
   "outputs": [],
   "source": []
  }
 ],
 "metadata": {
  "kernelspec": {
   "display_name": "Python 3 (ipykernel)",
   "language": "python",
   "name": "python3"
  },
  "language_info": {
   "codemirror_mode": {
    "name": "ipython",
    "version": 3
   },
   "file_extension": ".py",
   "mimetype": "text/x-python",
   "name": "python",
   "nbconvert_exporter": "python",
   "pygments_lexer": "ipython3",
   "version": "3.10.13"
  }
 },
 "nbformat": 4,
 "nbformat_minor": 5
}
